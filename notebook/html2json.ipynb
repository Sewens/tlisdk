{
 "cells": [
  {
   "cell_type": "markdown",
   "id": "f9617a94-3c8f-4c97-a211-7db6606fb6e8",
   "metadata": {},
   "source": [
    "# 将html网页转换为json格式"
   ]
  },
  {
   "cell_type": "code",
   "execution_count": 7,
   "id": "bd186da2-faec-4961-bc2d-9e0edab9f1cb",
   "metadata": {
    "execution": {
     "iopub.execute_input": "2024-11-12T23:44:17.381674Z",
     "iopub.status.busy": "2024-11-12T23:44:17.380700Z",
     "iopub.status.idle": "2024-11-12T23:44:17.496362Z",
     "shell.execute_reply": "2024-11-12T23:44:17.496362Z",
     "shell.execute_reply.started": "2024-11-12T23:44:17.381674Z"
    }
   },
   "outputs": [],
   "source": [
    "import json\n",
    "from bs4 import BeautifulSoup"
   ]
  },
  {
   "cell_type": "code",
   "execution_count": 12,
   "id": "de6f23e3-4f89-40ff-8fe5-0cd37e8507c5",
   "metadata": {
    "execution": {
     "iopub.execute_input": "2024-11-13T04:38:38.343921Z",
     "iopub.status.busy": "2024-11-13T04:38:38.343921Z",
     "iopub.status.idle": "2024-11-13T04:38:38.348387Z",
     "shell.execute_reply": "2024-11-13T04:38:38.347379Z",
     "shell.execute_reply.started": "2024-11-13T04:38:38.343921Z"
    }
   },
   "outputs": [],
   "source": [
    "import os"
   ]
  },
  {
   "cell_type": "code",
   "execution_count": 13,
   "id": "ddb4bf7c-bc9f-4df6-ad1a-c7d75240e8bf",
   "metadata": {
    "execution": {
     "iopub.execute_input": "2024-11-13T04:39:00.458500Z",
     "iopub.status.busy": "2024-11-13T04:39:00.458500Z",
     "iopub.status.idle": "2024-11-13T04:39:00.464010Z",
     "shell.execute_reply": "2024-11-13T04:39:00.463003Z",
     "shell.execute_reply.started": "2024-11-13T04:39:00.458500Z"
    }
   },
   "outputs": [],
   "source": [
    "def save_json(obj, fpath):\n",
    "    if not os.path.isdir('../data/json/'):\n",
    "        os.mkdir('../data/json/')\n",
    "    with open(os.path.join('../data/json/',fpath),'w',encoding='utf-8') as file:\n",
    "        json.dump(obj,file)"
   ]
  },
  {
   "cell_type": "markdown",
   "id": "23097cd2-e94b-45ae-989d-5bccc2f32e90",
   "metadata": {},
   "source": [
    "## 主页解析"
   ]
  },
  {
   "cell_type": "code",
   "execution_count": 9,
   "id": "e94171e9-63ea-4517-8418-2c4a5de676ae",
   "metadata": {
    "execution": {
     "iopub.execute_input": "2024-11-13T04:36:55.798224Z",
     "iopub.status.busy": "2024-11-13T04:36:55.796221Z",
     "iopub.status.idle": "2024-11-13T04:36:55.825679Z",
     "shell.execute_reply": "2024-11-13T04:36:55.824674Z",
     "shell.execute_reply.started": "2024-11-13T04:36:55.798224Z"
    }
   },
   "outputs": [],
   "source": [
    "def extract_navbar(soup):\n",
    "    navbar = soup.find('nav', class_='navbar')\n",
    "    if not navbar:\n",
    "        return []\n",
    "    \n",
    "    navbar_data = []\n",
    "    \n",
    "    for item in navbar.find_all('li', class_='nav-item'):\n",
    "        nav_item = {}\n",
    "        nav_link = item.find('a', class_='nav-link')\n",
    "        if nav_link:\n",
    "            nav_item['text'] = nav_link.get_text(strip=True)\n",
    "            nav_item['href'] = nav_link.get('href')\n",
    "        \n",
    "        dropdown_menu = item.find('ul', class_='dropdown-menu')\n",
    "        if dropdown_menu:\n",
    "            nav_item['dropdown'] = []\n",
    "            for dropdown_item in dropdown_menu.find_all('li'):\n",
    "                dropdown_link = dropdown_item.find('a', class_='dropdown-item')\n",
    "                if dropdown_link:\n",
    "                    nav_item['dropdown'].append({\n",
    "                        'text': dropdown_link.get_text(strip=True),\n",
    "                        'href': dropdown_link.get('href')\n",
    "                    })\n",
    "        \n",
    "        navbar_data.append(nav_item)\n",
    "    \n",
    "    return navbar_data\n",
    "\n",
    "def extract_page(soup):\n",
    "    page = soup.find('div', class_='page')\n",
    "    if not page:\n",
    "        return []\n",
    "    \n",
    "    page_data = []\n",
    "    \n",
    "    for card in page.find_all('div', class_='card'):\n",
    "        card_data = {}\n",
    "        card_header = card.find('div', class_='card-header')\n",
    "        if card_header:\n",
    "            card_data['header'] = card_header.get_text(strip=True)\n",
    "        \n",
    "        card_body = card.find('div', class_='card-body')\n",
    "        if card_body:\n",
    "            card_data['body'] = []\n",
    "            \n",
    "            for link in card_body.find_all('a'):\n",
    "                card_data['body'].append({\n",
    "                    'text': link.get_text(strip=True),\n",
    "                    'href': link.get('href')\n",
    "                })\n",
    "        \n",
    "        page_data.append(card_data)\n",
    "    \n",
    "    return page_data\n",
    "\n",
    "def html_to_json(html_content):\n",
    "    soup = BeautifulSoup(html_content, 'html.parser')\n",
    "    \n",
    "    navbar_data = extract_navbar(soup)\n",
    "    page_data = extract_page(soup)\n",
    "    \n",
    "    result = {\n",
    "        'navbar': navbar_data,\n",
    "        'page': page_data\n",
    "    }\n",
    "    \n",
    "    return json.dumps(result, ensure_ascii=False, indent=4)"
   ]
  },
  {
   "cell_type": "code",
   "execution_count": 5,
   "id": "1eee9310-4d50-42f9-a281-7470e312869b",
   "metadata": {
    "execution": {
     "iopub.execute_input": "2024-11-12T23:44:12.015889Z",
     "iopub.status.busy": "2024-11-12T23:44:12.014890Z",
     "iopub.status.idle": "2024-11-12T23:44:12.018536Z",
     "shell.execute_reply": "2024-11-12T23:44:12.018536Z",
     "shell.execute_reply.started": "2024-11-12T23:44:12.015889Z"
    }
   },
   "outputs": [],
   "source": [
    "# 假设html_content是已经获取到的HTML内容\n",
    "html_content = open('../data/site/cn.html','r',encoding='utf-8').read()"
   ]
  },
  {
   "cell_type": "code",
   "execution_count": 11,
   "id": "501c981b-c834-4c79-816e-1316990335ab",
   "metadata": {
    "execution": {
     "iopub.execute_input": "2024-11-13T04:37:19.468977Z",
     "iopub.status.busy": "2024-11-13T04:37:19.467978Z",
     "iopub.status.idle": "2024-11-13T04:37:19.517963Z",
     "shell.execute_reply": "2024-11-13T04:37:19.516950Z",
     "shell.execute_reply.started": "2024-11-13T04:37:19.468977Z"
    }
   },
   "outputs": [],
   "source": [
    "json_output = html_to_json(html_content)"
   ]
  },
  {
   "cell_type": "code",
   "execution_count": 14,
   "id": "0f7d21f1-d17f-463f-8f46-589703a470fa",
   "metadata": {
    "execution": {
     "iopub.execute_input": "2024-11-13T04:39:18.107404Z",
     "iopub.status.busy": "2024-11-13T04:39:18.107404Z",
     "iopub.status.idle": "2024-11-13T04:39:18.113914Z",
     "shell.execute_reply": "2024-11-13T04:39:18.112907Z",
     "shell.execute_reply.started": "2024-11-13T04:39:18.107404Z"
    }
   },
   "outputs": [],
   "source": [
    "save_json(json_output,'home.json')"
   ]
  },
  {
   "cell_type": "code",
   "execution_count": null,
   "id": "17f4f7b1-9985-4ffd-8dcd-a7b365ec1ba5",
   "metadata": {},
   "outputs": [],
   "source": []
  }
 ],
 "metadata": {
  "kernelspec": {
   "display_name": "Python 3 (ipykernel)",
   "language": "python",
   "name": "python3"
  },
  "language_info": {
   "codemirror_mode": {
    "name": "ipython",
    "version": 3
   },
   "file_extension": ".py",
   "mimetype": "text/x-python",
   "name": "python",
   "nbconvert_exporter": "python",
   "pygments_lexer": "ipython3",
   "version": "3.11.5"
  }
 },
 "nbformat": 4,
 "nbformat_minor": 5
}
