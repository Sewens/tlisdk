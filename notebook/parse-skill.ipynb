{
 "cells": [
  {
   "cell_type": "markdown",
   "id": "f9617a94-3c8f-4c97-a211-7db6606fb6e8",
   "metadata": {},
   "source": [
    "# 解析技能页面\n",
    "\n",
    "包含主页面以及子项"
   ]
  },
  {
   "cell_type": "code",
   "execution_count": 3,
   "id": "bd186da2-faec-4961-bc2d-9e0edab9f1cb",
   "metadata": {
    "ExecuteTime": {
     "end_time": "2024-12-03T11:57:21.797600Z",
     "start_time": "2024-12-03T11:57:21.741798Z"
    }
   },
   "outputs": [],
   "source": [
    "import json\n",
    "from bs4 import BeautifulSoup"
   ]
  },
  {
   "cell_type": "code",
   "execution_count": 82,
   "id": "de6f23e3-4f89-40ff-8fe5-0cd37e8507c5",
   "metadata": {},
   "outputs": [],
   "source": [
    "import os\n",
    "import pandas as pd"
   ]
  },
  {
   "cell_type": "code",
   "execution_count": 77,
   "id": "ddb4bf7c-bc9f-4df6-ad1a-c7d75240e8bf",
   "metadata": {},
   "outputs": [],
   "source": [
    "def save_json(obj, fpath):\n",
    "    if not os.path.isdir('../data/json/'):\n",
    "        os.mkdir('../data/json/')\n",
    "    with open(os.path.join('../data/json/',fpath),'w',encoding='utf-8') as file:\n",
    "        json.dump(obj,file,ensure_ascii=False)"
   ]
  },
  {
   "cell_type": "code",
   "execution_count": 12,
   "id": "686d1c24-e48d-422c-87ef-1c1485ab1f7c",
   "metadata": {},
   "outputs": [],
   "source": [
    "skill_page_name = [\n",
    "    'Active_Skill',\n",
    "    'Support_Skill',\n",
    "    'Passive_Skill',\n",
    "    'Activation_Medium_Skill',\n",
    "    'Noble_Support_Skill',\n",
    "    'Magnificent_Support_Skill'\n",
    "]"
   ]
  },
  {
   "cell_type": "markdown",
   "id": "23097cd2-e94b-45ae-989d-5bccc2f32e90",
   "metadata": {},
   "source": [
    "## 1. 技能页面解析\n",
    "https://tlidb.com/cn/Active_Skill"
   ]
  },
  {
   "cell_type": "markdown",
   "id": "400f45c7-f6c4-42de-bf47-c589045812c5",
   "metadata": {},
   "source": [
    "### 1.1 抓取所有tag"
   ]
  },
  {
   "cell_type": "code",
   "execution_count": 67,
   "id": "ae41940f-46be-4641-9cf3-97f06779d375",
   "metadata": {},
   "outputs": [],
   "source": [
    "def parse_skill_tags(fpath):\n",
    "    soup = BeautifulSoup(open(fpath).read(), 'html.parser')\n",
    "    \n",
    "    # 查找所有class为\"btn btn-sm border mb-1\"的span标签，并提取其文本内容\n",
    "    return [tag.text for tag in soup.find_all('span', class_='btn btn-sm border mb-1')]"
   ]
  },
  {
   "cell_type": "markdown",
   "id": "09ac4eeb-fcba-4af8-8c8d-b11d06266728",
   "metadata": {},
   "source": [
    "### 1.2 抓取技能名称"
   ]
  },
  {
   "cell_type": "code",
   "execution_count": 68,
   "id": "cc9642f9-9d05-493e-bf5e-cbe2fa3812b1",
   "metadata": {},
   "outputs": [],
   "source": [
    "def parse_skill_fname(fpath):\n",
    "    soup = BeautifulSoup(open(fpath).read(), 'html.parser')\n",
    "    \n",
    "    # 查找所有class为\"btn btn-sm border mb-1\"的span标签，并提取其文本内容\n",
    "    divs = soup.find_all('div', class_='flex-grow-1 mx-2 my-1')\n",
    "    return [a['href'] for div in divs for a in div.find_all('a', href=True)]"
   ]
  },
  {
   "cell_type": "markdown",
   "id": "072775ad-663d-48e0-9109-a49f0d1c705a",
   "metadata": {},
   "source": [
    "### 1.3 抓取技能详情"
   ]
  },
  {
   "cell_type": "code",
   "execution_count": 78,
   "id": "f2b48da4-91db-429d-8b21-6c9209a1a780",
   "metadata": {},
   "outputs": [],
   "source": [
    "def parse_skill_detail(fpath):\n",
    "    # 使用BeautifulSoup解析HTML\n",
    "    soup = BeautifulSoup(open(fpath).read(), 'html.parser')\n",
    "    \n",
    "    # 查找class为\"card ui_item popupItem\"的div标签\n",
    "    card = soup.find('div', class_='card ui_item popupItem')\n",
    "    \n",
    "    # 提取card-title\n",
    "    card_title = card.find('h5', class_='card-title').text.strip()\n",
    "    \n",
    "    # 提取border p-1 mb-1 tag\n",
    "    tags = card.find_all('span', class_='border p-1 mb-1 tag')\n",
    "    tag_text = [tag.text.strip() for tag in tags]\n",
    "    \n",
    "    # 提取weapon_restrict_description\n",
    "    weapon_restrict_node = card.find('div', {'data-block': 'weapon_restrict_description'})\n",
    "    weapon_restrict_description = weapon_restrict_node.text.strip() if weapon_restrict_node else ''\n",
    "    \n",
    "    # 提取explicitMod\n",
    "    explicit_mods = card.find_all('div', class_='explicitMod')\n",
    "    explicit_mod_text = '\\n'.join([mod.text.strip() for mod in explicit_mods])\n",
    "    \n",
    "    # 查找所有<e>标签，并提取其文本和data-bs-title属性\n",
    "    tooltips = []\n",
    "    for e_tag in card.find_all('e', attrs={'data-bs-toggle': 'tooltip'}):\n",
    "        tooltip_text = e_tag.text.strip()\n",
    "        tooltip_title = e_tag.get('data-bs-title', '')\n",
    "        tooltips.append({'text': tooltip_text, 'data-bs-title': tooltip_title})\n",
    "    \n",
    "    \n",
    "    # 查找所有class为\"btn btn-sm mb-1 border\"的button标签，并提取其text和href属性\n",
    "    buttons = soup.find_all('button', class_='btn btn-sm mb-1 border')\n",
    "    hero_binding = []\n",
    "    \n",
    "    for button in buttons:\n",
    "        a_tag = button.find('a')\n",
    "        text = a_tag.text.strip()\n",
    "        unlock_level = button.text.strip().split(':')[1].strip()\n",
    "        href = a_tag['href']\n",
    "        hero_binding.append({'hero_name': text, 'unlock_level':unlock_level, 'href': href})\n",
    "    \n",
    "    # 查找class为\"col-sm-12\"的div标签\n",
    "    table_div = soup.find('div', class_='card mb-2')\n",
    "\n",
    "    if table_div:\n",
    "        # 查找table标签\n",
    "        table = table_div.find('table')\n",
    "        \n",
    "        # 提取表头\n",
    "        headers = [th.text.strip() for th in table.find('thead').find_all('th')]\n",
    "        \n",
    "        # 提取表格内容\n",
    "        rows = table.find('tbody').find_all('tr')\n",
    "        detail_data = {header: [] for header in headers}\n",
    "        \n",
    "        for row in rows:\n",
    "            cols = row.find_all('td')\n",
    "            for i, col in enumerate(cols):\n",
    "                detail_data[headers[i]].append(col.text)\n",
    "    else:\n",
    "        detail_data = {'null':''}\n",
    "    # 构建字典\n",
    "    result = {\n",
    "        'skill_name': card_title,\n",
    "        'skill_tag': tag_text,\n",
    "        'skill_hero_binding':hero_binding,\n",
    "        'skill_weapon_restrict_description': weapon_restrict_description,\n",
    "        'skill_description_text': explicit_mod_text,\n",
    "        'skill_tooltip':tooltips,\n",
    "        'skill_detail':detail_data\n",
    "    }\n",
    "    return result"
   ]
  },
  {
   "cell_type": "markdown",
   "id": "9717e733-cbc3-45bf-b8c9-798e30f5f653",
   "metadata": {},
   "source": [
    "### 1.4 分别抽取数据并存为json"
   ]
  },
  {
   "cell_type": "code",
   "execution_count": 79,
   "id": "a95d78f1-1f04-47d3-ada1-118d98f9ebf1",
   "metadata": {
    "scrolled": true
   },
   "outputs": [],
   "source": [
    "base_dir = '../data/site/cn/'\n",
    "for skill_key in skill_page_name:\n",
    "    fpath = os.path.join(base_dir,f'{skill_key}.html')\n",
    "    skill_tag = parse_skill_tags(fpath)\n",
    "    skill_sub_name = parse_skill_fname(fpath)\n",
    "\n",
    "    skill_data = {\n",
    "        'skill_main_name':skill_key,\n",
    "        'skill_all_tags':skill_tag,\n",
    "        'skill_detail_node':[]\n",
    "    }\n",
    "    for skill_name in skill_sub_name:\n",
    "        detail_fpath = os.path.join(base_dir,f'{skill_name}.html')\n",
    "        detail_data = parse_skill_detail(detail_fpath)\n",
    "        detail_data['skill_fname'] = skill_name\n",
    "        skill_data['skill_detail_node'].append(detail_data)\n",
    "    save_json(skill_data,f'{skill_key}.json')"
   ]
  },
  {
   "cell_type": "markdown",
   "id": "28144728-3a12-4261-b75b-ea15f4b32a1f",
   "metadata": {},
   "source": [
    "## 2. tooltips页面解析"
   ]
  },
  {
   "cell_type": "code",
   "execution_count": 65,
   "id": "4f79de30-27d9-43ce-a18b-c431cee9f403",
   "metadata": {},
   "outputs": [],
   "source": [
    "def parse_tooltips_page(fpath):\n",
    "    \n",
    "    soup = BeautifulSoup(open(fpath).read(), 'html.parser')\n",
    "    div = soup.find('div', class_='card mb-2')\n",
    "    \n",
    "    # 查找table标签\n",
    "    table = div.find('table')\n",
    "    \n",
    "    # 提取表头\n",
    "    headers = [th.text.strip() for th in table.find('thead').find_all('th')]\n",
    "    \n",
    "    # 提取表格内容\n",
    "    rows = table.find('tbody').find_all('tr')\n",
    "    detail_data = {header: [] for header in headers}\n",
    "    \n",
    "    for row in rows:\n",
    "        cols = row.find_all('td')\n",
    "        for i, col in enumerate(cols):\n",
    "            detail_data[headers[i]].append(col.text)\n",
    "    return detail_data"
   ]
  },
  {
   "cell_type": "code",
   "execution_count": 80,
   "id": "529145b6-261e-4b16-bc6b-bd116e1ffe46",
   "metadata": {},
   "outputs": [],
   "source": [
    "tooltips_data = parse_tooltips_page('../data/site/cn/Hyperlink.html')"
   ]
  },
  {
   "cell_type": "code",
   "execution_count": 81,
   "id": "e0e9703e-fd16-4154-84c0-a2a6d4f65765",
   "metadata": {},
   "outputs": [],
   "source": [
    "save_json(tooltips_data,f'tooltips.json')"
   ]
  },
  {
   "cell_type": "code",
   "execution_count": 83,
   "id": "03b10920-9219-43dd-bde0-7aa9cc38afd2",
   "metadata": {},
   "outputs": [],
   "source": [
    "tooltips_df = pd.DataFrame(tooltips_data)"
   ]
  },
  {
   "cell_type": "code",
   "execution_count": 85,
   "id": "70f99f60-e4cc-4d65-939d-6eec2efb8acb",
   "metadata": {},
   "outputs": [],
   "source": [
    "del tooltips_df['manual_rule_id']"
   ]
  },
  {
   "cell_type": "code",
   "execution_count": 86,
   "id": "c462db6f-248b-453d-9a5e-ba24e8c94bd5",
   "metadata": {},
   "outputs": [],
   "source": [
    "tooltips_df.to_excel('../data/tips.xlsx')"
   ]
  },
  {
   "cell_type": "code",
   "execution_count": null,
   "id": "5b659047-9423-4402-b17b-12a23f7bf8f8",
   "metadata": {},
   "outputs": [],
   "source": []
  }
 ],
 "metadata": {
  "kernelspec": {
   "display_name": "Python 3 (ipykernel)",
   "language": "python",
   "name": "python3"
  },
  "language_info": {
   "codemirror_mode": {
    "name": "ipython",
    "version": 3
   },
   "file_extension": ".py",
   "mimetype": "text/x-python",
   "name": "python",
   "nbconvert_exporter": "python",
   "pygments_lexer": "ipython3",
   "version": "3.12.7"
  }
 },
 "nbformat": 4,
 "nbformat_minor": 5
}
